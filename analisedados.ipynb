{
  "cells": [
    {
      "cell_type": "markdown",
      "metadata": {
        "id": "view-in-github",
        "colab_type": "text"
      },
      "source": [
        "<a href=\"https://colab.research.google.com/github/marcocmcmelo/projetos_python/blob/main/analisedados.ipynb\" target=\"_parent\"><img src=\"https://colab.research.google.com/assets/colab-badge.svg\" alt=\"Open In Colab\"/></a>"
      ]
    },
    {
      "cell_type": "markdown",
      "metadata": {
        "id": "ydo68TsrE04d"
      },
      "source": [
        "# Python Insights - Analisando Dados com Python\n",
        "\n",
        "### Case - Cancelamento de Clientes\n",
        "\n",
        "Você foi contratado por uma empresa com mais de 800 mil clientes para um projeto de Dados. Recentemente a empresa percebeu que da sua base total de clientes, a maioria são clientes inativos, ou seja, que já cancelaram o serviço.\n",
        "\n",
        "Precisando melhorar seus resultados ela quer conseguir entender os principais motivos desses cancelamentos e quais as ações mais eficientes para reduzir esse número."
      ]
    },
    {
      "cell_type": "code",
      "execution_count": null,
      "metadata": {
        "id": "mUbksrEHHc4v"
      },
      "outputs": [],
      "source": [
        "!pip install numpy openpyxl nbformat ipykernel plotly"
      ]
    },
    {
      "cell_type": "code",
      "execution_count": null,
      "metadata": {
        "id": "WpKuB-z2F7zc"
      },
      "outputs": [],
      "source": [
        "import pandas as pd\n",
        "\n",
        "tabela = pd.read_csv('cancelamentos.csv')\n",
        "tabela = tabela.drop('CustomerID', axis=1) # excluir coluna CustomerID que não é necessário\n",
        "display(tabela)"
      ]
    },
    {
      "cell_type": "code",
      "execution_count": null,
      "metadata": {
        "id": "X4IdUWVzGszl"
      },
      "outputs": [],
      "source": [
        "# identificando e removendo valores vazios\n",
        "display(tabela.info())\n",
        "tabela = tabela.dropna()\n",
        "display(tabela.info())"
      ]
    },
    {
      "cell_type": "code",
      "execution_count": null,
      "metadata": {
        "id": "vnP6cMkxIiye"
      },
      "outputs": [],
      "source": [
        "# quantaqs pessoas cancelaram e quantas não cancelaram\n",
        "display(tabela['cancelou'].value_counts())"
      ]
    },
    {
      "cell_type": "code",
      "execution_count": null,
      "metadata": {
        "id": "LZ4JH_BYJWtT"
      },
      "outputs": [],
      "source": [
        "display(tabela['cancelou'].value_counts(normalize=True).map('{:.1%}'.format))"
      ]
    },
    {
      "cell_type": "code",
      "execution_count": null,
      "metadata": {
        "id": "Tm5DIIZoKwo_"
      },
      "outputs": [],
      "source": [
        "# Verificando o % dos tipos de contratos\n",
        "\n",
        "display(tabela['duracao_contrato'].value_counts(normalize=True).map('{:.1%}'.format))"
      ]
    },
    {
      "cell_type": "code",
      "execution_count": null,
      "metadata": {
        "id": "QoAQ3bXlK5OG"
      },
      "outputs": [],
      "source": [
        "display(tabela['duracao_contrato'].value_counts())"
      ]
    },
    {
      "cell_type": "code",
      "execution_count": null,
      "metadata": {
        "colab": {
          "background_save": true
        },
        "id": "pdYYdrz9Mbpc"
      },
      "outputs": [],
      "source": [
        "# Analise das causas do cancelamento\n",
        "# comparação das outras colunas da tabela com a coluna de cancelamento\n",
        "import plotly.express as px\n",
        "\n",
        "for coluna in tabela.columns:\n",
        "  grafico = px.histogram(tabela, x=coluna, color='cancelou', text_auto=True)\n",
        "  grafico.show()\n"
      ]
    },
    {
      "cell_type": "code",
      "execution_count": null,
      "metadata": {
        "id": "9kxsts_w6Cp2"
      },
      "outputs": [],
      "source": [
        "# Verificar a diferença da coluna duração contrato sem o contrato mensal\n",
        "\n",
        "tabela = tabela[tabela['duracao_contrato']!='Monthly']\n",
        "display(tabela['cancelou'].value_counts())\n",
        "\n",
        "display(tabela['cancelou'].value_counts(normalize=True).map('{:.1%}'.format))"
      ]
    },
    {
      "cell_type": "code",
      "execution_count": null,
      "metadata": {
        "id": "wbJ8Fz1K6hSi"
      },
      "outputs": [],
      "source": [
        "# verificando a diferença com a coluna ligaçoes call center\n",
        "\n",
        "tabela = tabela[tabela['ligacoes_callcenter']<=4]\n",
        "display(tabela['cancelou'].value_counts())\n",
        "\n",
        "display(tabela['cancelou'].value_counts(normalize=True).map('{:.1%}'.format))"
      ]
    },
    {
      "cell_type": "code",
      "execution_count": null,
      "metadata": {
        "id": "eyhTjOps6v2h"
      },
      "outputs": [],
      "source": [
        "# verificando a diferença com a coluna dias atraso\n",
        "\n",
        "tabela = tabela[tabela['dias_atraso']<=20]\n",
        "\n",
        "display(tabela['cancelou'].value_counts())\n",
        "\n",
        "display(tabela['cancelou'].value_counts(normalize=True).map('{:.1%}'.format))"
      ]
    },
    {
      "cell_type": "code",
      "execution_count": null,
      "metadata": {
        "id": "RxCLCjXK038A"
      },
      "outputs": [],
      "source": [
        "# Verificar a diferença da coluna duração contrato sem o contrato mensal\n",
        "\n",
        "tabela = tabela[tabela['duracao_contrato']!='Monthly']\n",
        "\n",
        "# verificando a diferença com a coluna ligaçoes call center\n",
        "\n",
        "tabela = tabela[tabela['ligacoes_callcenter']<=4]\n",
        "\n",
        "# verificando a diferença com a coluna dias atraso\n",
        "\n",
        "tabela = tabela[tabela['dias_atraso']<=21]\n",
        "\n",
        "display(tabela['cancelou'].value_counts())\n",
        "\n",
        "display(tabela['cancelou'].value_counts(normalize=True).map('{:.1%}'.format))"
      ]
    },
    {
      "cell_type": "code",
      "execution_count": null,
      "metadata": {
        "id": "fA2D8CtE63jY"
      },
      "outputs": [],
      "source": []
    }
  ],
  "metadata": {
    "colab": {
      "provenance": [],
      "include_colab_link": true
    },
    "kernelspec": {
      "display_name": "base",
      "language": "python",
      "name": "python3"
    },
    "language_info": {
      "codemirror_mode": {
        "name": "ipython",
        "version": 3
      },
      "file_extension": ".py",
      "mimetype": "text/x-python",
      "name": "python",
      "nbconvert_exporter": "python",
      "pygments_lexer": "ipython3",
      "version": "3.10.9"
    }
  },
  "nbformat": 4,
  "nbformat_minor": 0
}